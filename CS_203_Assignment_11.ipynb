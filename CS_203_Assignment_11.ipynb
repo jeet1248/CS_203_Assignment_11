{
  "nbformat": 4,
  "nbformat_minor": 0,
  "metadata": {
    "colab": {
      "provenance": []
    },
    "kernelspec": {
      "name": "python3",
      "display_name": "Python 3"
    },
    "language_info": {
      "name": "python"
    }
  },
  "cells": [
    {
      "cell_type": "markdown",
      "source": [
        "# CS 203 - Assignment 11\n",
        "---\n",
        "\n",
        "**Team Number:** 13\n",
        "\n",
        "**Members:**\n",
        "\n",
        "- Jeet Joshi (23110148)\n",
        "- Kain Harshil Shivkumar (23110151)"
      ],
      "metadata": {
        "id": "lu77FdJ4dExf"
      }
    },
    {
      "cell_type": "markdown",
      "source": [
        "### Importing Dependencies"
      ],
      "metadata": {
        "id": "1BALpzIrdHTY"
      }
    },
    {
      "cell_type": "code",
      "execution_count": 18,
      "metadata": {
        "id": "JTmPuCIEbEeK"
      },
      "outputs": [],
      "source": [
        "import os\n",
        "import time\n",
        "import torch\n",
        "from torch import nn, optim\n",
        "from torch.utils.data import DataLoader, TensorDataset\n",
        "import pandas as pd\n",
        "from sklearn.feature_extraction.text import CountVectorizer\n",
        "from sklearn.model_selection import train_test_split\n",
        "from tabulate import tabulate\n",
        "import matplotlib.pyplot as plt"
      ]
    },
    {
      "cell_type": "markdown",
      "source": [
        "### Dataset Preparation (SST-2)"
      ],
      "metadata": {
        "id": "P7MIVQg8cJ1U"
      }
    },
    {
      "cell_type": "code",
      "source": [
        "train_url = 'https://raw.githubusercontent.com/clairett/pytorch-sentiment-classification/master/data/SST2/train.tsv'\n",
        "test_url  = 'https://raw.githubusercontent.com/clairett/pytorch-sentiment-classification/master/data/SST2/test.tsv'\n",
        "df_train = pd.read_csv(train_url, sep='\\t', header=None, names=['sentence','label'])\n",
        "df_test  = pd.read_csv(test_url,  sep='\\t', header=None, names=['sentence','label'])"
      ],
      "metadata": {
        "id": "hHOl04cYbNpS"
      },
      "execution_count": 19,
      "outputs": []
    },
    {
      "cell_type": "code",
      "source": [
        "X_train, X_val, y_train, y_val = train_test_split(\n",
        "    df_train['sentence'].values,\n",
        "    df_train['label'].values,\n",
        "    test_size=0.2,\n",
        "    random_state=42,\n",
        "    stratify=df_train['label'].values\n",
        ")"
      ],
      "metadata": {
        "id": "Hed_07bdbSi5"
      },
      "execution_count": 20,
      "outputs": []
    },
    {
      "cell_type": "code",
      "source": [
        "max_features = 10000\n",
        "vectorizer = CountVectorizer(max_features=max_features)\n",
        "vectorizer.fit(X_train)\n",
        "X_train_vec = vectorizer.transform(X_train).toarray()\n",
        "X_val_vec   = vectorizer.transform(X_val).toarray()\n",
        "X_test_vec  = vectorizer.transform(df_test['sentence'].values).toarray()\n",
        "\n",
        "train_ds = TensorDataset(torch.from_numpy(X_train_vec).float(), torch.from_numpy(y_train).long())\n",
        "val_ds   = TensorDataset(torch.from_numpy(X_val_vec).float(),   torch.from_numpy(y_val).long())\n",
        "test_ds  = TensorDataset(torch.from_numpy(X_test_vec).float(), torch.from_numpy(df_test['label'].values).long())\n",
        "\n",
        "train_loader = DataLoader(train_ds, batch_size=64, shuffle=True)\n",
        "val_loader   = DataLoader(val_ds,   batch_size=64)\n",
        "test_loader  = DataLoader(test_ds,  batch_size=64)"
      ],
      "metadata": {
        "id": "RvM9SYv6bUc4"
      },
      "execution_count": 21,
      "outputs": []
    },
    {
      "cell_type": "markdown",
      "source": [
        "### MLP Model"
      ],
      "metadata": {
        "id": "mk7V3QAscRAx"
      }
    },
    {
      "cell_type": "code",
      "source": [
        "class MLP(nn.Module):\n",
        "    def __init__(self, input_dim, hidden_sizes, num_classes, dropout_p=0.3):\n",
        "        super().__init__()\n",
        "        layers = []\n",
        "        prev = input_dim\n",
        "        for h in hidden_sizes:\n",
        "            layers += [\n",
        "                nn.Linear(prev, h),\n",
        "                nn.ReLU(),\n",
        "                nn.Dropout(dropout_p)\n",
        "            ]\n",
        "            prev = h\n",
        "        layers.append(nn.Linear(prev, num_classes))  # Final output layer (logits)\n",
        "        self.net = nn.Sequential(*layers)\n",
        "\n",
        "    def forward(self, x):\n",
        "        return self.net(x)\n",
        "\n",
        "model = MLP(input_dim=max_features, hidden_sizes=[512,256,128,64], num_classes=2)\n",
        "print(f\"Trainable parameters: {sum(p.numel() for p in model.parameters() if p.requires_grad)}\")"
      ],
      "metadata": {
        "colab": {
          "base_uri": "https://localhost:8080/"
        },
        "id": "gqVfKyNebUt3",
        "outputId": "e3ab658e-c015-4d1e-8e24-ca7da9395682"
      },
      "execution_count": 22,
      "outputs": [
        {
          "output_type": "stream",
          "name": "stdout",
          "text": [
            "Trainable parameters: 5293122\n"
          ]
        }
      ]
    },
    {
      "cell_type": "markdown",
      "source": [
        "### Training"
      ],
      "metadata": {
        "id": "c-L7uLOVca3U"
      }
    },
    {
      "cell_type": "code",
      "source": [
        "import os\n",
        "import torch\n",
        "import torch.optim as optim\n",
        "import torch.nn as nn\n",
        "\n",
        "device = torch.device('cpu')\n",
        "model.to(device)\n",
        "\n",
        "# Defining loss function and optimizer\n",
        "criterion = nn.CrossEntropyLoss()\n",
        "optimizer = optim.Adam(model.parameters(), lr=1e-3)\n",
        "\n",
        "# Initializing variables to track best validation accuracy\n",
        "best_val_acc = 0.0\n",
        "train_accs, val_accs = [], []\n",
        "train_losses, val_losses = [], []\n",
        "\n",
        "# Training loop\n",
        "for epoch in range(1, 11):\n",
        "    model.train()\n",
        "    total_loss, correct, total = 0, 0, 0\n",
        "    for Xb, yb in train_loader:\n",
        "        Xb, yb = Xb.to(device), yb.to(device)\n",
        "        optimizer.zero_grad()\n",
        "        logits = model(Xb)\n",
        "        loss = criterion(logits, yb)\n",
        "        loss.backward()\n",
        "        optimizer.step()\n",
        "        total_loss += loss.item()\n",
        "        preds = logits.argmax(dim=1)\n",
        "        correct += (preds == yb).sum().item()\n",
        "        total += yb.size(0)\n",
        "\n",
        "    avg_train_loss = total_loss / len(train_loader)\n",
        "    avg_train_acc = correct / total\n",
        "    train_losses.append(avg_train_loss)\n",
        "    train_accs.append(avg_train_acc)\n",
        "\n",
        "    model.eval()\n",
        "    val_loss, v_correct, v_total = 0, 0, 0\n",
        "    with torch.no_grad():\n",
        "        for Xb, yb in val_loader:\n",
        "            Xb, yb = Xb.to(device), yb.to(device)\n",
        "            logits = model(Xb)\n",
        "            val_loss += criterion(logits, yb).item()\n",
        "            preds = logits.argmax(dim=1)\n",
        "            v_correct += (preds == yb).sum().item()\n",
        "            v_total += yb.size(0)\n",
        "\n",
        "    avg_val_loss = val_loss / len(val_loader)\n",
        "    avg_val_acc = v_correct / v_total\n",
        "    val_losses.append(avg_val_loss)\n",
        "    val_accs.append(avg_val_acc)\n",
        "\n",
        "    print(f\"Epoch {epoch}: Train Loss={avg_train_loss:.4f}, Train Acc={avg_train_acc:.4f}, \"\n",
        "          f\"Val Loss={avg_val_loss:.4f}, Val Acc={avg_val_acc:.4f}\")\n",
        "\n",
        "    # Saving best model\n",
        "    if avg_val_acc > best_val_acc:\n",
        "        best_val_acc = avg_val_acc\n",
        "        torch.save(model.state_dict(), 'checkpoint.pt')\n",
        "\n",
        "# After training, saving the final best model to 'original.pt'\n",
        "if os.path.exists('checkpoint.pt'):\n",
        "    os.replace('checkpoint.pt', 'original.pt')\n",
        "    print(f\"Best model saved as 'original.pt' with Val Acc={best_val_acc:.4f}\")"
      ],
      "metadata": {
        "colab": {
          "base_uri": "https://localhost:8080/"
        },
        "id": "Lp-W8ej9hM_y",
        "outputId": "9420ae65-83f1-4af1-8111-497d29a57270"
      },
      "execution_count": 24,
      "outputs": [
        {
          "output_type": "stream",
          "name": "stdout",
          "text": [
            "Epoch 1: Train Loss=0.5964, Train Acc=0.6606, Val Loss=0.4942, Val Acc=0.7666\n",
            "Epoch 2: Train Loss=0.2657, Train Acc=0.8956, Val Loss=0.5995, Val Acc=0.7514\n",
            "Epoch 3: Train Loss=0.0826, Train Acc=0.9678, Val Loss=0.7905, Val Acc=0.7710\n",
            "Epoch 4: Train Loss=0.0186, Train Acc=0.9933, Val Loss=1.1143, Val Acc=0.7688\n",
            "Epoch 5: Train Loss=0.0077, Train Acc=0.9978, Val Loss=1.4103, Val Acc=0.7789\n",
            "Epoch 6: Train Loss=0.0027, Train Acc=0.9991, Val Loss=1.7967, Val Acc=0.7775\n",
            "Epoch 7: Train Loss=0.0034, Train Acc=0.9987, Val Loss=2.1338, Val Acc=0.7493\n",
            "Epoch 8: Train Loss=0.0134, Train Acc=0.9962, Val Loss=1.3698, Val Acc=0.7659\n",
            "Epoch 9: Train Loss=0.0091, Train Acc=0.9973, Val Loss=1.5002, Val Acc=0.7623\n",
            "Epoch 10: Train Loss=0.0026, Train Acc=0.9989, Val Loss=1.7106, Val Acc=0.7659\n",
            "Best model saved as 'original.pt' with Val Acc=0.7789\n"
          ]
        }
      ]
    },
    {
      "cell_type": "markdown",
      "source": [
        "### Plotting Training and Validation Accuracy and Loss"
      ],
      "metadata": {
        "id": "EdOIyh8mcgqS"
      }
    },
    {
      "cell_type": "code",
      "source": [
        "print(\"Plotting validation accuracy and loss curves\")\n",
        "plt.figure(figsize=(10, 4))\n",
        "\n",
        "# Accuracy Plot\n",
        "plt.subplot(1, 2, 1)\n",
        "plt.plot(range(1, 11), train_accs, 'bo-', label='Train Accuracy')\n",
        "plt.plot(range(1, 11), val_accs, 'ro-', label='Validation Accuracy')\n",
        "plt.title('Accuracy vs. Epochs')\n",
        "plt.xlabel('Epoch')\n",
        "plt.ylabel('Accuracy')\n",
        "plt.legend()\n",
        "plt.grid(True)\n",
        "\n",
        "# Loss Plot\n",
        "plt.subplot(1, 2, 2)\n",
        "plt.plot(range(1, 11), train_losses, 'bo-', label='Train Loss')\n",
        "plt.plot(range(1, 11), val_losses, 'ro-', label='Validation Loss')\n",
        "plt.title('Loss vs. Epochs')\n",
        "plt.xlabel('Epoch')\n",
        "plt.ylabel('Loss')\n",
        "plt.legend()\n",
        "plt.grid(True)"
      ],
      "metadata": {
        "colab": {
          "base_uri": "https://localhost:8080/",
          "height": 427
        },
        "id": "X1aXPvgebj0s",
        "outputId": "308d2a7c-d5f2-493a-9a51-14ceeea4b4ab"
      },
      "execution_count": 25,
      "outputs": [
        {
          "output_type": "stream",
          "name": "stdout",
          "text": [
            "Plotting validation accuracy and loss curves\n"
          ]
        },
        {
          "output_type": "display_data",
          "data": {
            "text/plain": [
              "<Figure size 1000x400 with 2 Axes>"
            ],
            "image/png": "[encoded data removed]"
          },
          "metadata": {}
        }
      ]
    },
    {
      "cell_type": "markdown",
      "source": [
        "### Quantization & Half Precision"
      ],
      "metadata": {
        "id": "3Kw1oFrNcnRl"
      }
    },
    {
      "cell_type": "code",
      "source": [
        "# Original model\n",
        "model.load_state_dict(torch.load('original.pt'))\n",
        "model.eval()\n",
        "\n",
        "# Dynamic Quantization\n",
        "quantized_model = torch.quantization.quantize_dynamic(model, {nn.Linear}, dtype=torch.qint8)\n",
        "torch.save(quantized_model, 'quantized.pt')  # Saving entire model\n",
        "\n",
        "# Half Precision\n",
        "half_model = MLP(max_features, [512,256,128,64], 2).to(device)\n",
        "half_model.load_state_dict(torch.load('original.pt'))  # Loading in FP32 first\n",
        "half_model = half_model.half()  # Converting to FP16\n",
        "half_model.eval()\n",
        "torch.save(half_model.state_dict(), 'half.pt')"
      ],
      "metadata": {
        "id": "wsvMoT2Zb2o9"
      },
      "execution_count": 26,
      "outputs": []
    },
    {
      "cell_type": "markdown",
      "source": [
        "### Evaluation Function"
      ],
      "metadata": {
        "id": "gEtF-XbdcwrR"
      }
    },
    {
      "cell_type": "code",
      "source": [
        "def evaluate(m, loader, device, half=False, num_runs=10):\n",
        "    m.to(device)\n",
        "    m.eval()\n",
        "    correct, total = 0, 0\n",
        "    inference_times = []\n",
        "\n",
        "    with torch.no_grad():\n",
        "        for _ in range(num_runs):\n",
        "            start_time = time.time()\n",
        "\n",
        "            for Xb, yb in loader:\n",
        "                Xb = Xb.half().to(device) if half else Xb.to(device)\n",
        "                yb = yb.to(device)\n",
        "                preds = m(Xb).argmax(dim=1)\n",
        "                correct += (preds == yb).sum().item()\n",
        "                total += yb.size(0)\n",
        "\n",
        "            inference_time = (time.time() - start_time) * 1000  # Converting to milliseconds\n",
        "            inference_times.append(inference_time)\n",
        "\n",
        "    avg_inference_time = sum(inference_times) / len(inference_times)  # Average over all runs\n",
        "    accuracy = (correct / total) * 100\n",
        "    return accuracy, avg_inference_time"
      ],
      "metadata": {
        "id": "C5-omgQub768"
      },
      "execution_count": 27,
      "outputs": []
    },
    {
      "cell_type": "markdown",
      "source": [
        "### Comparison Table"
      ],
      "metadata": {
        "id": "RcH2TK3Nc0gd"
      }
    },
    {
      "cell_type": "code",
      "source": [
        "file_map = {'Original': 'original.pt', 'Dynamic': 'quantized.pt', 'Half': 'half.pt'}\n",
        "table = []\n",
        "\n",
        "# Original Model\n",
        "acc, avg_inference_time = evaluate(model, test_loader, device)\n",
        "size = os.path.getsize(file_map['Original']) / (1024 * 1024)\n",
        "table.append(['Original', f\"{acc:.2f}\", f\"{size:.2f}\", f\"{avg_inference_time:.2f}\"])\n",
        "\n",
        "# Quantized Model\n",
        "quantized_model = torch.load('quantized.pt', map_location='cpu', weights_only=False)\n",
        "acc, avg_inference_time = evaluate(quantized_model, test_loader, torch.device('cpu'))\n",
        "size = os.path.getsize(file_map['Dynamic']) / (1024 * 1024)\n",
        "table.append(['Dynamic', f\"{acc:.2f}\", f\"{size:.2f}\", f\"{avg_inference_time:.2f}\"])\n",
        "\n",
        "# Half Model\n",
        "acc, avg_inference_time = evaluate(half_model, test_loader, device, half=True)\n",
        "size = os.path.getsize(file_map['Half']) / (1024 * 1024)\n",
        "table.append(['Half', f\"{acc:.2f}\", f\"{size:.2f}\", f\"{avg_inference_time:.2f}\"])\n",
        "\n",
        "# Printing Results\n",
        "print(tabulate(table, headers=['Model', 'Acc (%)', 'Size (MB)', 'Avg Inference Time (ms)']))"
      ],
      "metadata": {
        "colab": {
          "base_uri": "https://localhost:8080/"
        },
        "id": "Rjcpt0KjcB0S",
        "outputId": "94f4e20c-3418-4682-b7a6-ae87d6c1df9c"
      },
      "execution_count": 28,
      "outputs": [
        {
          "output_type": "stream",
          "name": "stdout",
          "text": [
            "Model       Acc (%)    Size (MB)    Avg Inference Time (ms)\n",
            "--------  ---------  -----------  -------------------------\n",
            "Original      78.53        20.2                      426.55\n",
            "Dynamic       78.58         5.06                     257.2\n",
            "Half          78.53        10.1                     1759.81\n"
          ]
        }
      ]
    },
    {
      "cell_type": "markdown",
      "source": [
        "### Estimated Sizes from Parameters"
      ],
      "metadata": {
        "id": "6FpHc6E2c4G5"
      }
    },
    {
      "cell_type": "code",
      "source": [
        "num_params = sum(p.numel() for p in model.parameters() if p.requires_grad)\n",
        "\n",
        "estimates = [\n",
        "    ('Original (FP32)', num_params * 4 / (1024*1024)),\n",
        "    ('Half (FP16)',     num_params * 2 / (1024*1024)),\n",
        "    ('Quantized (INT8)',num_params * 1 / (1024*1024))\n",
        "]\n",
        "\n",
        "print(\"Estimated Sizes (based on parameter count):\")\n",
        "print(tabulate(estimates, headers=[\"Model (Precision)\", \"Estimated Size (MB)\"]))"
      ],
      "metadata": {
        "colab": {
          "base_uri": "https://localhost:8080/"
        },
        "id": "tANZGJMDcDuQ",
        "outputId": "40757337-cfc8-40b3-ad3a-bdb563c41382"
      },
      "execution_count": 29,
      "outputs": [
        {
          "output_type": "stream",
          "name": "stdout",
          "text": [
            "Estimated Sizes (based on parameter count):\n",
            "Model (Precision)      Estimated Size (MB)\n",
            "-------------------  ---------------------\n",
            "Original (FP32)                   20.1917\n",
            "Half (FP16)                       10.0958\n",
            "Quantized (INT8)                   5.04791\n"
          ]
        }
      ]
    }
  ]
}